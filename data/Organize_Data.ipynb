{
 "cells": [
  {
   "cell_type": "markdown",
   "id": "e295479d-1a8e-4613-bc71-54a85a2bbce8",
   "metadata": {},
   "source": [
    "# Organize Data"
   ]
  },
  {
   "cell_type": "code",
   "execution_count": 7,
   "id": "1def7fd9-9824-4083-8d7c-91eada48f220",
   "metadata": {
    "execution": {
     "iopub.execute_input": "2024-05-06T15:22:51.027974Z",
     "iopub.status.busy": "2024-05-06T15:22:51.027633Z",
     "iopub.status.idle": "2024-05-06T15:22:51.030691Z",
     "shell.execute_reply": "2024-05-06T15:22:51.030180Z",
     "shell.execute_reply.started": "2024-05-06T15:22:51.027951Z"
    }
   },
   "outputs": [],
   "source": [
    "import pandas as pd\n",
    "import re"
   ]
  },
  {
   "cell_type": "code",
   "execution_count": 4,
   "id": "4a0fbdef-4de0-43b5-ab93-5a4b246717e1",
   "metadata": {
    "execution": {
     "iopub.execute_input": "2024-05-06T15:17:44.423418Z",
     "iopub.status.busy": "2024-05-06T15:17:44.423080Z",
     "iopub.status.idle": "2024-05-06T15:17:44.457682Z",
     "shell.execute_reply": "2024-05-06T15:17:44.457184Z",
     "shell.execute_reply.started": "2024-05-06T15:17:44.423396Z"
    }
   },
   "outputs": [
    {
     "data": {
      "text/html": [
       "<div>\n",
       "<style scoped>\n",
       "    .dataframe tbody tr th:only-of-type {\n",
       "        vertical-align: middle;\n",
       "    }\n",
       "\n",
       "    .dataframe tbody tr th {\n",
       "        vertical-align: top;\n",
       "    }\n",
       "\n",
       "    .dataframe thead th {\n",
       "        text-align: right;\n",
       "    }\n",
       "</style>\n",
       "<table border=\"1\" class=\"dataframe\">\n",
       "  <thead>\n",
       "    <tr style=\"text-align: right;\">\n",
       "      <th></th>\n",
       "      <th>Unnamed: 0</th>\n",
       "      <th>standard_concept_name</th>\n",
       "    </tr>\n",
       "  </thead>\n",
       "  <tbody>\n",
       "    <tr>\n",
       "      <th>0</th>\n",
       "      <td>0</td>\n",
       "      <td>gabapentin 300 MG Oral Capsule [Neurontin]</td>\n",
       "    </tr>\n",
       "    <tr>\n",
       "      <th>1</th>\n",
       "      <td>1</td>\n",
       "      <td>captopril 25 MG Oral Tablet</td>\n",
       "    </tr>\n",
       "    <tr>\n",
       "      <th>2</th>\n",
       "      <td>2</td>\n",
       "      <td>olanzapine 10 MG Oral Tablet [Zyprexa]</td>\n",
       "    </tr>\n",
       "    <tr>\n",
       "      <th>3</th>\n",
       "      <td>3</td>\n",
       "      <td>canagliflozin 300 MG Oral Tablet [Invokana]</td>\n",
       "    </tr>\n",
       "    <tr>\n",
       "      <th>4</th>\n",
       "      <td>4</td>\n",
       "      <td>benzonatate 200 MG Oral Capsule [Tessalon]</td>\n",
       "    </tr>\n",
       "    <tr>\n",
       "      <th>...</th>\n",
       "      <td>...</td>\n",
       "      <td>...</td>\n",
       "    </tr>\n",
       "    <tr>\n",
       "      <th>20605</th>\n",
       "      <td>20605</td>\n",
       "      <td>brompheniramine maleate 0.8 MG/ML / phenylephr...</td>\n",
       "    </tr>\n",
       "    <tr>\n",
       "      <th>20606</th>\n",
       "      <td>20606</td>\n",
       "      <td>hydrocortisone acetate 30 MG Rectal Suppositor...</td>\n",
       "    </tr>\n",
       "    <tr>\n",
       "      <th>20607</th>\n",
       "      <td>20607</td>\n",
       "      <td>amoxicillin 200 MG [Amoxil]</td>\n",
       "    </tr>\n",
       "    <tr>\n",
       "      <th>20608</th>\n",
       "      <td>20608</td>\n",
       "      <td>iodoquinol 650 MG Oral Tablet [Yodoxin]</td>\n",
       "    </tr>\n",
       "    <tr>\n",
       "      <th>20609</th>\n",
       "      <td>20609</td>\n",
       "      <td>guaifenesin 50 MG/ML / pseudoephedrine hydroch...</td>\n",
       "    </tr>\n",
       "  </tbody>\n",
       "</table>\n",
       "<p>20610 rows × 2 columns</p>\n",
       "</div>"
      ],
      "text/plain": [
       "       Unnamed: 0                              standard_concept_name\n",
       "0               0         gabapentin 300 MG Oral Capsule [Neurontin]\n",
       "1               1                        captopril 25 MG Oral Tablet\n",
       "2               2             olanzapine 10 MG Oral Tablet [Zyprexa]\n",
       "3               3        canagliflozin 300 MG Oral Tablet [Invokana]\n",
       "4               4         benzonatate 200 MG Oral Capsule [Tessalon]\n",
       "...           ...                                                ...\n",
       "20605       20605  brompheniramine maleate 0.8 MG/ML / phenylephr...\n",
       "20606       20606  hydrocortisone acetate 30 MG Rectal Suppositor...\n",
       "20607       20607                        amoxicillin 200 MG [Amoxil]\n",
       "20608       20608            iodoquinol 650 MG Oral Tablet [Yodoxin]\n",
       "20609       20609  guaifenesin 50 MG/ML / pseudoephedrine hydroch...\n",
       "\n",
       "[20610 rows x 2 columns]"
      ]
     },
     "execution_count": 4,
     "metadata": {},
     "output_type": "execute_result"
    }
   ],
   "source": [
    "aou_med_list = pd.read_table(\"~/wkspce/PhenoDrugDB/data/all_meds.tsv\")"
   ]
  },
  {
   "cell_type": "code",
   "execution_count": 10,
   "id": "1c4c01f2-b0af-45e1-bab9-089196fe74d8",
   "metadata": {
    "execution": {
     "iopub.execute_input": "2024-05-06T15:26:00.179875Z",
     "iopub.status.busy": "2024-05-06T15:26:00.179537Z",
     "iopub.status.idle": "2024-05-06T15:26:00.194675Z",
     "shell.execute_reply": "2024-05-06T15:26:00.193988Z",
     "shell.execute_reply.started": "2024-05-06T15:26:00.179854Z"
    }
   },
   "outputs": [],
   "source": [
    "# Regular expression pattern for text within square brackets\n",
    "pattern = re.compile(r'\\[(.*?)\\]')\n",
    "\n",
    "# Function that matches the pattern and returns the string from within brackets or NaN if pattern is not present\n",
    "def extract_pattern(text):\n",
    "    # Search for the pattern in the given text\n",
    "    match = pattern.search(text)\n",
    "    # If a match is found, return the first group (the text within the brackets)\n",
    "    return match.group(1) if match else None\n",
    "\n",
    "# Apply the 'extract_pattern' function to each row in the specified column and create a new column with the result\n",
    "aou_med_list['extracted'] = aou_med_list['standard_concept_name'].apply(extract_pattern)"
   ]
  },
  {
   "cell_type": "code",
   "execution_count": 11,
   "id": "8484897a-b253-446a-b84b-a5956701e0b4",
   "metadata": {
    "execution": {
     "iopub.execute_input": "2024-05-06T15:27:59.462011Z",
     "iopub.status.busy": "2024-05-06T15:27:59.461669Z",
     "iopub.status.idle": "2024-05-06T15:27:59.474350Z",
     "shell.execute_reply": "2024-05-06T15:27:59.473723Z",
     "shell.execute_reply.started": "2024-05-06T15:27:59.461988Z"
    }
   },
   "outputs": [],
   "source": [
    "ukbb_medlist = pd.read_table(\"coding4.tsv\")\n",
    "ukbb_medlist['extracted'] = ukbb_medlist['meaning'].apply(extract_pattern)"
   ]
  },
  {
   "cell_type": "code",
   "execution_count": 12,
   "id": "e272a187-9eb5-4bf4-8b7a-48a2638d39be",
   "metadata": {
    "execution": {
     "iopub.execute_input": "2024-05-06T15:28:00.868747Z",
     "iopub.status.busy": "2024-05-06T15:28:00.868408Z",
     "iopub.status.idle": "2024-05-06T15:28:00.876890Z",
     "shell.execute_reply": "2024-05-06T15:28:00.876390Z",
     "shell.execute_reply.started": "2024-05-06T15:28:00.868727Z"
    }
   },
   "outputs": [
    {
     "data": {
      "text/html": [
       "<div>\n",
       "<style scoped>\n",
       "    .dataframe tbody tr th:only-of-type {\n",
       "        vertical-align: middle;\n",
       "    }\n",
       "\n",
       "    .dataframe tbody tr th {\n",
       "        vertical-align: top;\n",
       "    }\n",
       "\n",
       "    .dataframe thead th {\n",
       "        text-align: right;\n",
       "    }\n",
       "</style>\n",
       "<table border=\"1\" class=\"dataframe\">\n",
       "  <thead>\n",
       "    <tr style=\"text-align: right;\">\n",
       "      <th></th>\n",
       "      <th>coding</th>\n",
       "      <th>meaning</th>\n",
       "      <th>extracted</th>\n",
       "    </tr>\n",
       "  </thead>\n",
       "  <tbody>\n",
       "    <tr>\n",
       "      <th>0</th>\n",
       "      <td>1185</td>\n",
       "      <td>vitamin e product [ctsu]</td>\n",
       "      <td>ctsu</td>\n",
       "    </tr>\n",
       "    <tr>\n",
       "      <th>1</th>\n",
       "      <td>1187</td>\n",
       "      <td>chondroitin product</td>\n",
       "      <td>None</td>\n",
       "    </tr>\n",
       "    <tr>\n",
       "      <th>2</th>\n",
       "      <td>1189</td>\n",
       "      <td>co-enzyme q10/ubiquinone/bio-quinone/coenzyme q10</td>\n",
       "      <td>None</td>\n",
       "    </tr>\n",
       "    <tr>\n",
       "      <th>3</th>\n",
       "      <td>1191</td>\n",
       "      <td>indigestion remedy (over the counter)</td>\n",
       "      <td>None</td>\n",
       "    </tr>\n",
       "    <tr>\n",
       "      <th>4</th>\n",
       "      <td>1193</td>\n",
       "      <td>omega-3/fish oil supplement</td>\n",
       "      <td>None</td>\n",
       "    </tr>\n",
       "    <tr>\n",
       "      <th>...</th>\n",
       "      <td>...</td>\n",
       "      <td>...</td>\n",
       "      <td>...</td>\n",
       "    </tr>\n",
       "    <tr>\n",
       "      <th>6740</th>\n",
       "      <td>2038459890</td>\n",
       "      <td>cyclosporin a</td>\n",
       "      <td>None</td>\n",
       "    </tr>\n",
       "    <tr>\n",
       "      <th>6741</th>\n",
       "      <td>2038460068</td>\n",
       "      <td>phenobarbitone</td>\n",
       "      <td>None</td>\n",
       "    </tr>\n",
       "    <tr>\n",
       "      <th>6742</th>\n",
       "      <td>2038460076</td>\n",
       "      <td>phenytoin</td>\n",
       "      <td>None</td>\n",
       "    </tr>\n",
       "    <tr>\n",
       "      <th>6743</th>\n",
       "      <td>2038460150</td>\n",
       "      <td>paracetamol</td>\n",
       "      <td>None</td>\n",
       "    </tr>\n",
       "    <tr>\n",
       "      <th>6744</th>\n",
       "      <td>2038507816</td>\n",
       "      <td>aluminium hydroxide</td>\n",
       "      <td>None</td>\n",
       "    </tr>\n",
       "  </tbody>\n",
       "</table>\n",
       "<p>6745 rows × 3 columns</p>\n",
       "</div>"
      ],
      "text/plain": [
       "          coding                                            meaning extracted\n",
       "0           1185                           vitamin e product [ctsu]      ctsu\n",
       "1           1187                                chondroitin product      None\n",
       "2           1189  co-enzyme q10/ubiquinone/bio-quinone/coenzyme q10      None\n",
       "3           1191              indigestion remedy (over the counter)      None\n",
       "4           1193                        omega-3/fish oil supplement      None\n",
       "...          ...                                                ...       ...\n",
       "6740  2038459890                                      cyclosporin a      None\n",
       "6741  2038460068                                     phenobarbitone      None\n",
       "6742  2038460076                                          phenytoin      None\n",
       "6743  2038460150                                        paracetamol      None\n",
       "6744  2038507816                                aluminium hydroxide      None\n",
       "\n",
       "[6745 rows x 3 columns]"
      ]
     },
     "execution_count": 12,
     "metadata": {},
     "output_type": "execute_result"
    }
   ],
   "source": [
    "ukbb_medlist"
   ]
  },
  {
   "cell_type": "code",
   "execution_count": null,
   "id": "fda9bb84-8b27-470d-96a8-d3c08f572b14",
   "metadata": {},
   "outputs": [],
   "source": []
  }
 ],
 "metadata": {
  "kernelspec": {
   "display_name": "Python 3 (ipykernel)",
   "language": "python",
   "name": "python3"
  },
  "language_info": {
   "codemirror_mode": {
    "name": "ipython",
    "version": 3
   },
   "file_extension": ".py",
   "mimetype": "text/x-python",
   "name": "python",
   "nbconvert_exporter": "python",
   "pygments_lexer": "ipython3",
   "version": "3.10.9"
  }
 },
 "nbformat": 4,
 "nbformat_minor": 5
}
